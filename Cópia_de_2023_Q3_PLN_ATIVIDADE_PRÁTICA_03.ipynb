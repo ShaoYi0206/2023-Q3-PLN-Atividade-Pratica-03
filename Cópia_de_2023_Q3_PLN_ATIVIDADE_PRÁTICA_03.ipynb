{
  "nbformat": 4,
  "nbformat_minor": 0,
  "metadata": {
    "colab": {
      "provenance": [],
      "include_colab_link": true
    },
    "kernelspec": {
      "name": "python3",
      "display_name": "Python 3"
    }
  },
  "cells": [
    {
      "cell_type": "markdown",
      "metadata": {
        "id": "view-in-github",
        "colab_type": "text"
      },
      "source": [
        "<a href=\"https://colab.research.google.com/github/ShaoYi0206/2023-Q3-PLN-Atividade-Pratica-03/blob/main/C%C3%B3pia_de_2023_Q3_PLN_ATIVIDADE_PR%C3%81TICA_03.ipynb\" target=\"_parent\"><img src=\"https://colab.research.google.com/assets/colab-badge.svg\" alt=\"Open In Colab\"/></a>"
      ]
    },
    {
      "cell_type": "markdown",
      "metadata": {
        "id": "Y6QILOdpOjwv"
      },
      "source": [
        "# **Processamento de Linguagem Natural [2023.Q3]**\n",
        "Prof. Alexandre Donizeti Alves"
      ]
    },
    {
      "cell_type": "markdown",
      "metadata": {
        "id": "8m67OOx9MX_3"
      },
      "source": [
        "### **ATIVIDADE PRÁTICA 03 [Tutorial sobre uma API]**\n",
        "\n",
        "---"
      ]
    },
    {
      "cell_type": "markdown",
      "metadata": {
        "id": "5Gk0nHKabBT-"
      },
      "source": [
        "A **ATIVIDADE PRÁTICA 03** deve ser feita utilizando o **Google Colab** com uma conta\n",
        "sua vinculada ao Gmail. O link do seu notebook, armazenado no Google Drive, além do link de um repositório no GitHub e os principais resultados da atividade, devem ser enviados usando o seguinte formulário:\n",
        "\n",
        "> https://forms.gle/nPsWnUuE5GCeXaiU8 (**AINDA EM CONSTRUÇÃO**)\n",
        "\n",
        "\n",
        "**IMPORTANTE**: A submissão deve ser feita APENAS POR UM INTEGRANTE DA EQUIPE até o dia 30/10 (segunda-feira - até às 23h59). Por favor, lembre-se de dar permissão de ACESSO IRRESTRITO para o professor da disciplina de PLN."
      ]
    },
    {
      "cell_type": "markdown",
      "metadata": {
        "id": "D7hJlilKM485"
      },
      "source": [
        "### **EQUIPE**\n",
        "\n",
        "---"
      ]
    },
    {
      "cell_type": "markdown",
      "source": [
        "**POR FAVOR, PREENCHER OS INTEGRANDES DA SUA EQUIPE:**\n",
        "\n",
        "\n",
        "**Integrante 01:** Antonio Kung"
      ],
      "metadata": {
        "id": "tnIArN0QY-Ek"
      }
    },
    {
      "cell_type": "markdown",
      "source": [
        "### **API**\n",
        "---"
      ],
      "metadata": {
        "id": "6yExhaebs-nD"
      }
    },
    {
      "cell_type": "markdown",
      "source": [
        "**QUAL A API SELECIONADA POR SUA EQUIPE?**\n",
        "\n",
        "`API: ` Vonage SMS API\n",
        "\n",
        "`Site oficial: ` https://www.vonage.com/?bypassgeoloc=true\n",
        "\n",
        "`Link para a documentação oficial:` https://developer.vonage.com/en/messaging/sms/overview"
      ],
      "metadata": {
        "id": "DjJM_qhEZRy6"
      }
    },
    {
      "cell_type": "markdown",
      "metadata": {
        "id": "EtjgWQRzNphL"
      },
      "source": [
        "### **DESCRIÇÃO**\n",
        "---"
      ]
    },
    {
      "cell_type": "markdown",
      "source": [
        "Implementar um `notebook` no `Google Colab` para demonstrar passo a passo como usar uma determinada **API** em `Python`, ou seja, criar um **TUTORIAL** destacando desde a instalação e configuração da **API** até as principais finalidades. O **TUTORIAL** deve ser o mais completo possível, com diversos exemplos de uso e permitindo ser facilmente reproduzido.\n",
        "\n",
        "A **API** deve ser selecionada na seguinte planilha:\n",
        "\n",
        "https://docs.google.com/spreadsheets/d/1-Q1szJ3UmoE2_3LtcRQyqid5fPIcnpsR3XAPnoxLj2o/edit?usp=sharing\n",
        "\n",
        ">\n",
        "\n",
        "**IMPORTANTE:** É obrigatório usar o e-mail da UFABC.\n",
        "\n",
        ">\n",
        "\n",
        "**DICA:** Por favor, insira o seu nome ou da sua equipe na ordem definida na planilha. A escolha da **API** deve ser feita de acordo com a lista disponibilizada na planilha. Cada **API** só pode ser escolhida por, no **MÁXIMO**, 2 equipes."
      ],
      "metadata": {
        "id": "fXTwkiiGs2BV"
      }
    },
    {
      "cell_type": "markdown",
      "source": [
        "### **ROTEIRO PARA APRESENTAÇÃO DE UMA API**\n",
        "\n",
        "---\n",
        ">\n",
        "\n",
        "\n",
        "**IMPORTANTE**: consulta feita no ChatGPT\n",
        "\n",
        ">\n",
        "\n",
        "Como escrever um tutorial sobre uma API em Python usando o Google Colab com foco nas etapas essenciais. Aqui está um guia rápido:\n",
        "\n",
        ">\n",
        "\n",
        "* **Passo 01: Introdução**\n",
        "\n",
        "  >  Apresente a API que você está explicando.\n",
        "\n",
        "  >  Explique por que é útil ou relevante.\n",
        "\n",
        "* **Passo 02: Configuração no Google Colab**\n",
        "\n",
        "  > Explique como os leitores podem abrir um novo notebook no Google Colab.\n",
        "\n",
        "  > Mostre como importar bibliotecas necessárias.\n",
        "\n",
        "  > Instrua sobre como instalar quaisquer bibliotecas adicionais, se necessário.\n",
        "\n",
        "* **Passo 03: Autenticação (se aplicável)**\n",
        "\n",
        "  > Descreva como configurar a autenticação, caso a API exija.\n",
        "\n",
        "  > Forneça orientações sobre a obtenção de chaves de API ou tokens.\n",
        "\n",
        "* **Passo 04: Utilização Básica da API**\n",
        "\n",
        "  > Demonstre como fazer uma solicitação simples à API.\n",
        "\n",
        "  > Mostre como processar a resposta da API.\n",
        "\n",
        "* **Passo 05: Exemplos Práticos**\n",
        "\n",
        "  > Forneça exemplos práticos e úteis que os leitores podem seguir.\n",
        "\n",
        "  > Mostre como aplicar a API em cenários do mundo real.\n",
        "\n",
        "\n",
        "* **Passo 06: Considerações**\n",
        "\n",
        "  > Recapitule os principais pontos do tutorial.\n",
        "\n",
        "  > Incentive os leitores a explorar mais a API e experimentar por conta própria.\n",
        "\n",
        "* **Passo 07: Publicação**\n",
        "\n",
        "   > Considere compartilhar seu tutorial em plataformas como Medium, GitHub (obrigatório) ou seu blog pessoal.\n",
        "\n",
        "* **Passo 08: Promoção**\n",
        "\n",
        "  > Compartilhe seu tutorial nas redes sociais, grupos de desenvolvedores e fóruns relevantes.\n",
        "\n",
        "**IMPORTANTE**: Lembre-se de manter o tutorial curto e direto ao ponto. Use exemplos de código eficazes e forneça informações práticas que os leitores possam seguir facilmente. O Google Colab é uma ótima plataforma para compartilhar tutoriais, pois permite que os leitores executem o código diretamente no navegador.\n"
      ],
      "metadata": {
        "id": "wbICIIGcYPNf"
      }
    },
    {
      "cell_type": "markdown",
      "source": [
        "### **CRITÉRIOS DE AVALIAÇÃO**\n",
        "---\n"
      ],
      "metadata": {
        "id": "gWsBYQNtxmum"
      }
    },
    {
      "cell_type": "markdown",
      "source": [
        "As 3 equipes que **criarem os melhores tutoriais**  terão o peso diminuido na AVALIAÇÃO (Prova Escrita) em **25%** (caindo de 40 para 30).\n",
        "\n",
        "**IMPORTANTE**: a diminuição no peso da AVALIAÇÃO será aplicado para todos os membros da equipe.\n",
        "\n",
        "\n",
        "\n"
      ],
      "metadata": {
        "id": "5iHdx4BXYruQ"
      }
    },
    {
      "cell_type": "markdown",
      "source": [
        "### **TUTORIAL**\n",
        "---"
      ],
      "metadata": {
        "id": "nw09lujGvfjc"
      }
    },
    {
      "cell_type": "markdown",
      "source": [
        "Vonage SMS API"
      ],
      "metadata": {
        "id": "5q9zcrJj0n4H"
      }
    },
    {
      "cell_type": "markdown",
      "source": [
        "**SUGESTÃO**: Usar o **ROTEIRO** para apresentação de uma **API**"
      ],
      "metadata": {
        "id": "AD7LiZNAaMzv"
      }
    },
    {
      "cell_type": "markdown",
      "source": [
        "#### **INTRODUÇÃO**"
      ],
      "metadata": {
        "id": "ZM2EJhRIaaa2"
      }
    },
    {
      "cell_type": "markdown",
      "source": [
        "**Descrição da API**"
      ],
      "metadata": {
        "id": "FjG5RIW5bMfd"
      }
    },
    {
      "cell_type": "markdown",
      "source": [
        "Nesta apresentação, discutiremos a Vonage SMS API, uma ferramenta poderosa para enviar mensagens de texto em todo o mundo de forma rápida e eficaz.\n",
        "\n",
        "Esta API é extremamente útil para empresas que desejam se conectar com seus clientes por meio de mensagens de texto, seja para notificações, autenticação de dois fatores, atualizações de status e muito mais.\n",
        "\n",
        "\n"
      ],
      "metadata": {
        "id": "7kndSzDVbQkd"
      }
    },
    {
      "cell_type": "markdown",
      "source": [
        "#### **CONFIGURAÇÃO**"
      ],
      "metadata": {
        "id": "5DIH_lmdaqrh"
      }
    },
    {
      "cell_type": "code",
      "source": [
        "!pip install vonage"
      ],
      "metadata": {
        "id": "oqM3mRBsbBYZ"
      },
      "execution_count": null,
      "outputs": []
    },
    {
      "cell_type": "markdown",
      "source": [
        "#### **AUTENTICAÇÃO (SE APLICÁVEL)**"
      ],
      "metadata": {
        "id": "SwZgsj4narLo"
      }
    },
    {
      "cell_type": "markdown",
      "source": [
        "Para usar a Vonage SMS API, você precisa configurar sua conta na Vonage e obter suas credenciais de autenticação, incluindo sua Key de API e Secret.\n",
        "Para obter a sua Key e Secret é necessário criar uma conta na página do Vonage.\n",
        "\n",
        "Disponível em: https://www.vonage.com/communications-apis/sms/.\n",
        "\n",
        "Ao cadastrar, aperte em Yes para a opção de Developer, selecione Python e depois escolha a API SMS, assim irá criar uma conta.\n",
        "Na interface do usuário, escolha o còdigo para o Python.\n"
      ],
      "metadata": {
        "id": "1_Mz7OgEOIUV"
      }
    },
    {
      "cell_type": "markdown",
      "source": [
        "#### **UTILIZAÇÃO BÁSICA**"
      ],
      "metadata": {
        "id": "ZjXBfNHwarfV"
      }
    },
    {
      "cell_type": "code",
      "source": [
        "import vonage\n",
        "\n",
        "# Substitua 'SUA_KEY' e 'Seu_Secret' pela Key e Secret da sua conta no Vonage\n",
        "\n",
        "client = vonage.Client(key=\"SUA_KEY\", secret=\"SEU_SECRET\")\n",
        "sms = vonage.Sms(client)\n",
        "\n",
        "# Podemos alterar o FROM para qualquer nome do remetente e o TO para o número do destinatário\n",
        "# E também modificar o TEXT para enviar uma mensagem\n",
        "\n",
        "response = sms.send_message({\n",
        "    \"from\": \"Remetente\",\n",
        "    \"to\": \"Destinatário\",\n",
        "    \"text\": \"Sua mensagem\"\n",
        "})\n",
        "\n",
        "# Verifica se a mensagem foi enviada com sucesso\n",
        "if response[\"messages\"][0][\"status\"] == \"0\":\n",
        "  print(\"Message sent successfully.\")\n",
        "else:\n",
        "  print(f\"Message failed with error: {response['messages'][0]['error-text']}\")"
      ],
      "metadata": {
        "id": "bNqB40PlbAWx"
      },
      "execution_count": null,
      "outputs": []
    },
    {
      "cell_type": "markdown",
      "source": [
        "#### **EXEMPLOS PRÁTICOS**"
      ],
      "metadata": {
        "id": "marqph_raryN"
      }
    },
    {
      "cell_type": "code",
      "source": [
        "# Notificações para Clientes\n",
        "import csv\n",
        "import vonage\n",
        "\n",
        "client = vonage.Client(key=\"SUA_KEY\", secret=\"SEU_SECRET\")\n",
        "sms = vonage.Sms(client)\n",
        "\n",
        "# Lendo os números de cliente de um arquivo CSV\n",
        "with open('clientes.csv', mode='r') as file:\n",
        "    reader = csv.DictReader(file)\n",
        "    for row in reader:\n",
        "        numero_cliente = row['Numero']\n",
        "        mensagem = \"Sua mensagem personalizada aqui\"\n",
        "        response = sms.send_message({\n",
        "            \"from\": \"SeuNome\",\n",
        "            \"to\": numero_cliente,\n",
        "            \"text\": mensagem\n",
        "        })\n",
        "        # Verifica se a mensagem foi enviada com sucesso\n",
        "        if response[\"messages\"][0][\"status\"] == \"0\":\n",
        "          print(f\"Mensagem enviada para o número {numero_cliente} com sucesso\")\n",
        "        else:\n",
        "          print(f\"Ocorreu um erro no envio da mensagem para {numero_cliente}: {response['messages'][0]['error-text']}\")"
      ],
      "metadata": {
        "id": "aL49vegTa_4e"
      },
      "execution_count": null,
      "outputs": []
    },
    {
      "cell_type": "code",
      "source": [
        "# Acessando uma transação de banco de dados MySQL e enviar uma mensagem para o cliente\n",
        "\n",
        "import mysql.connector\n",
        "import vonage\n",
        "\n",
        "# Configurações do Banco de Dados MySQL\n",
        "meuBD = {\n",
        "    'host': 'Insira o Host do Banco de Dados aqui',\n",
        "    'user': 'Insira o Root do Banco de Dados aqui',\n",
        "    'password': 'Insira a Senha do Banco de Dados aqui',\n",
        "    'database': 'Insira o Nome do Banco de dados aqui'\n",
        "}\n",
        "\n",
        "# Conectando ao banco de dados MySQL\n",
        "conn = mysql.connector.connect(**meuBD)\n",
        "cursor = conn.cursor()\n",
        "\n",
        "# Acessando as informações de uma transação específica no Banco de Dados MySQL\n",
        "# Altere 'id_transacao' e o valor '1' para os valores desejados\n",
        "cursor.execute(\"SELECT nome, valor, numero_telefone FROM transacoes WHERE id_transacao = 1\")\n",
        "\n",
        "# Recupera a primeira linha de um conjunto de resultados\n",
        "transacao = cursor.fetchone()\n",
        "\n",
        "# Enviando notificação para o destinatário da transação\n",
        "client = vonage.Client(key='SUA_KEY', secret='SUA_SECRET')\n",
        "sms = vonage.Sms(client)\n",
        "\n",
        "# Verifica se existe a transação\n",
        "if transacao:\n",
        "    nome, valor, numero_destinatario = transacao # Armazenando os valores da tupla nas variáveis: nome, valor e numero_destinatario\n",
        "    mensagem = f\"Olá {nome}, você recebeu uma transação de R${valor:.2f}!\"\n",
        "\n",
        "    response = sms.send_message({\n",
        "        \"from\": \"Remetente\",\n",
        "        \"to\": numero_destinatario,\n",
        "        \"text\": mensagem\n",
        "    })\n",
        "\n",
        "    # Verifica se a mensagem foi enviada com sucesso\n",
        "    if response[\"messages\"][0][\"status\"] == \"0\":\n",
        "        print(f\"Notificação enviada com sucesso para {nome}.\")\n",
        "        print(f\"ID da mensagem: {response['messages'][0]['message-id']}\")\n",
        "    else:\n",
        "        print(f\"Ocorreu um erro no envio da notificação para {nome}: {response['messages'][0]['error-text']}\")\n",
        "else:\n",
        "    print(\"Nenhuma transação encontrada.\")\n",
        "\n",
        "# Fechando a conexão com o banco de dados MySQL\n",
        "cursor.close()\n",
        "conn.close()"
      ],
      "metadata": {
        "id": "a2w-TMLDgNpC"
      },
      "execution_count": null,
      "outputs": []
    },
    {
      "cell_type": "markdown",
      "source": [
        "#### **CONSIDERAÇÕES**"
      ],
      "metadata": {
        "id": "xIP2DoACa7of"
      }
    },
    {
      "cell_type": "markdown",
      "source": [
        "A Vonage SMS API é uma ferramenta poderosa que pode ser integrada facilmente em diferentes aplicativos e sistemas para facilitar a comunicação com os clientes. Com sua interface simples e documentação abrangente, os desenvolvedores podem implementar facilmente recursos de mensagens de texto em suas soluções.\n",
        "\n",
        "Ao explorar mais a API, os usuários podem descobrir recursos avançados, como o rastreamento de mensagens, o agendamento de envio e a personalização de\n",
        "mensagens para atender às necessidades específicas de seus casos de uso."
      ],
      "metadata": {
        "id": "dCRN197XbcQH"
      }
    },
    {
      "cell_type": "markdown",
      "source": [
        "**REFERÊNCIAS**\n",
        "\n",
        "---\n",
        "\n"
      ],
      "metadata": {
        "id": "DJa20CJRpQ7t"
      }
    },
    {
      "cell_type": "markdown",
      "source": [
        "Tutorial no Youtube: https://www.youtube.com/watch?v=OQH8T4an17s\n",
        "\n",
        "Linkedin: https://www.linkedin.com/pulse/send-sms-messages-using-python-vonage-api-abhinandan-kumar/"
      ],
      "metadata": {
        "id": "RnL75NkbOdQv"
      }
    },
    {
      "cell_type": "markdown",
      "source": [
        "Informar todas as referências usadas para a elaboração do **TUTORIAL**. Citar, por exemplo: vídeos no **YouTube**, artigos no **Medium** etc.\n",
        "\n",
        "**IMPORTANTE**: considerar referências **RECENTES** (3 meses)."
      ],
      "metadata": {
        "id": "GxpuIOR3pUWr"
      }
    }
  ]
}